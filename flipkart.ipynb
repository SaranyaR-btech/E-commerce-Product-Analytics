{
 "cells": [
  {
   "cell_type": "code",
   "execution_count": null,
   "id": "58cb2d0d-5e6b-436c-bf22-0c45464fd34a",
   "metadata": {},
   "outputs": [],
   "source": [
    "import pandas as pd"
   ]
  },
  {
   "cell_type": "code",
   "execution_count": null,
   "id": "4331337c-a032-4227-8bfa-7b7035f28b63",
   "metadata": {},
   "outputs": [],
   "source": []
  },
  {
   "cell_type": "code",
   "execution_count": null,
   "id": "8df7ea63-b032-4f12-8aba-63b1f28f7e1b",
   "metadata": {},
   "outputs": [],
   "source": []
  },
  {
   "cell_type": "code",
   "execution_count": null,
   "id": "025150c1-8371-45a0-a885-dd1a210ab28f",
   "metadata": {},
   "outputs": [],
   "source": []
  },
  {
   "cell_type": "code",
   "execution_count": null,
   "id": "14905b64-bf55-41b3-a253-6ea035fc0d86",
   "metadata": {},
   "outputs": [],
   "source": []
  },
  {
   "cell_type": "code",
   "execution_count": 22,
   "id": "bed07b46-522b-4c57-82e9-0215a7431d49",
   "metadata": {},
   "outputs": [
    {
     "name": "stdout",
     "output_type": "stream",
     "text": [
      "✅ Scraped page 1\n",
      "✅ Scraped page 2\n",
      "✅ Scraped page 3\n",
      "✅ Scraped page 4\n",
      "✅ Scraped page 5\n",
      "✅ Scraped page 6\n",
      "✅ Scraped page 7\n",
      "✅ Scraped page 8\n",
      "✅ Scraped page 9\n",
      "✅ Scraped page 10\n",
      "✅ Scraped page 11\n",
      "✅ Scraped page 12\n",
      "✅ Scraped page 13\n",
      "✅ Scraped page 14\n",
      "✅ Scraped page 15\n",
      "✅ Scraped total 360 products across 15 pages\n"
     ]
    }
   ],
   "source": [
    "from selenium import webdriver\n",
    "from selenium.webdriver.chrome.service import Service\n",
    "from selenium.webdriver.chrome.options import Options\n",
    "from webdriver_manager.chrome import ChromeDriverManager\n",
    "from bs4 import BeautifulSoup\n",
    "import pandas as pd\n",
    "import time\n",
    "from selenium.webdriver.common.by import By\n",
    "from selenium.webdriver.support.ui import WebDriverWait\n",
    "from selenium.webdriver.support import expected_conditions as EC\n",
    "\n",
    "# Setup Chrome\n",
    "options = Options()\n",
    "options.add_argument(\"--headless\")\n",
    "options.add_argument(\"--disable-gpu\")\n",
    "service = Service(ChromeDriverManager().install())\n",
    "driver = webdriver.Chrome(service=service, options=options)\n",
    "\n",
    "# Flipkart URL\n",
    "url = \"https://www.flipkart.com/search?q=mobile&otracker=search&otracker1=search&marketplace=FLIPKART&as-show=on&as=off\"\n",
    "driver.get(url)\n",
    "\n",
    "products = []\n",
    "num_pages = 15  # adjust pages as needed\n",
    "\n",
    "for page in range(num_pages):\n",
    "    time.sleep(5)  # wait for page load\n",
    "    soup = BeautifulSoup(driver.page_source, \"html.parser\")\n",
    "\n",
    "    for mob in soup.select(\"div.tUxRFH\"):\n",
    "        name = mob.select_one(\"div.KzDlHZ\")\n",
    "        price = mob.select_one(\"div.Nx9bqj._4b5DiR\")\n",
    "        rating = mob.select_one(\"div.XQDdHH\")\n",
    "        review = mob.select_one(\"span.Wphh3N\")\n",
    "\n",
    "        products.append({\n",
    "            \"Name\": name.get_text(strip=True) if name else \"n/a\",\n",
    "            \"Price\": price.get_text(strip=True) if price else \"n/a\",\n",
    "            \"Rating\": rating.get_text(strip=True) if rating else \"n/a\",\n",
    "            \"Reviews\": review.get_text(strip=True) if review else \"n/a\"\n",
    "        })\n",
    "\n",
    "    print(f\"✅ Scraped page {page+1}\")\n",
    "\n",
    "    # Try clicking next page\n",
    "    try:\n",
    "        next_btn = WebDriverWait(driver, 10).until(\n",
    "            EC.element_to_be_clickable((By.XPATH, \"//a[@class='_9QVEpD']/span[text()='Next']\"))\n",
    "        )\n",
    "        driver.execute_script(\"arguments[0].click();\", next_btn)\n",
    "    except:\n",
    "        print(\"No more pages available.\")\n",
    "        break\n",
    "\n",
    "driver.quit()\n",
    "\n",
    "# Save to CSV\n",
    "df = pd.DataFrame(products)\n",
    "df.to_csv(\"flipkart_mobiles.csv\", index=False, encoding=\"utf-8-sig\")\n",
    "print(f\"✅ Scraped total {len(df)} products across {page+1} pages\")\n"
   ]
  },
  {
   "cell_type": "code",
   "execution_count": null,
   "id": "761530cc-47b6-4d46-878e-cc7712ad5a50",
   "metadata": {},
   "outputs": [],
   "source": []
  }
 ],
 "metadata": {
  "kernelspec": {
   "display_name": "Python 3 (ipykernel)",
   "language": "python",
   "name": "python3"
  },
  "language_info": {
   "codemirror_mode": {
    "name": "ipython",
    "version": 3
   },
   "file_extension": ".py",
   "mimetype": "text/x-python",
   "name": "python",
   "nbconvert_exporter": "python",
   "pygments_lexer": "ipython3",
   "version": "3.10.0"
  }
 },
 "nbformat": 4,
 "nbformat_minor": 5
}
