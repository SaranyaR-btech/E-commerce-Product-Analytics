{
 "cells": [
  {
   "cell_type": "code",
   "execution_count": 1,
   "id": "9bbbbdb2-15b8-41e8-b6b3-b9594b5e82a9",
   "metadata": {},
   "outputs": [],
   "source": [
    "import pandas as pd"
   ]
  },
  {
   "cell_type": "code",
   "execution_count": 2,
   "id": "c4623ea6-c034-4a8c-a6a6-4bf4ce0d97b4",
   "metadata": {},
   "outputs": [],
   "source": [
    "df=pd.read_csv(\"mobile_clean.csv\")"
   ]
  },
  {
   "cell_type": "code",
   "execution_count": 3,
   "id": "acfc50ed-6501-45a5-afbc-d9701bf9d798",
   "metadata": {},
   "outputs": [
    {
     "data": {
      "text/html": [
       "<div>\n",
       "<style scoped>\n",
       "    .dataframe tbody tr th:only-of-type {\n",
       "        vertical-align: middle;\n",
       "    }\n",
       "\n",
       "    .dataframe tbody tr th {\n",
       "        vertical-align: top;\n",
       "    }\n",
       "\n",
       "    .dataframe thead th {\n",
       "        text-align: right;\n",
       "    }\n",
       "</style>\n",
       "<table border=\"1\" class=\"dataframe\">\n",
       "  <thead>\n",
       "    <tr style=\"text-align: right;\">\n",
       "      <th></th>\n",
       "      <th>Unnamed: 0</th>\n",
       "      <th>Brand</th>\n",
       "      <th>Name</th>\n",
       "      <th>Ratings</th>\n",
       "      <th>Reviews</th>\n",
       "      <th>Source</th>\n",
       "      <th>Price</th>\n",
       "      <th>RAM_GB</th>\n",
       "    </tr>\n",
       "  </thead>\n",
       "  <tbody>\n",
       "    <tr>\n",
       "      <th>0</th>\n",
       "      <td>0</td>\n",
       "      <td>Samsung</td>\n",
       "      <td>Samsung Galaxy M05 (Mint Green, 4GB RAM, 64 GB...</td>\n",
       "      <td>4.0</td>\n",
       "      <td>6358</td>\n",
       "      <td>amazon</td>\n",
       "      <td>6499</td>\n",
       "      <td>4.0</td>\n",
       "    </tr>\n",
       "    <tr>\n",
       "      <th>1</th>\n",
       "      <td>1</td>\n",
       "      <td>POCO</td>\n",
       "      <td>POCO C71, Cool Blue (6GB, 128GB)</td>\n",
       "      <td>3.9</td>\n",
       "      <td>71</td>\n",
       "      <td>amazon</td>\n",
       "      <td>6999</td>\n",
       "      <td>6.0</td>\n",
       "    </tr>\n",
       "    <tr>\n",
       "      <th>2</th>\n",
       "      <td>2</td>\n",
       "      <td>Nokia</td>\n",
       "      <td>Nokia 105 Classic | Single SIM Keypad Phone wi...</td>\n",
       "      <td>3.8</td>\n",
       "      <td>19235</td>\n",
       "      <td>amazon</td>\n",
       "      <td>999</td>\n",
       "      <td>1.0</td>\n",
       "    </tr>\n",
       "    <tr>\n",
       "      <th>3</th>\n",
       "      <td>3</td>\n",
       "      <td>OnePlus</td>\n",
       "      <td>OnePlus Nord CE4 Lite 5G (Super Silver, 8GB RA...</td>\n",
       "      <td>4.2</td>\n",
       "      <td>9101</td>\n",
       "      <td>amazon</td>\n",
       "      <td>16999</td>\n",
       "      <td>8.0</td>\n",
       "    </tr>\n",
       "    <tr>\n",
       "      <th>4</th>\n",
       "      <td>4</td>\n",
       "      <td>Motorola</td>\n",
       "      <td>Motorola G05 4G (Forest Green, 4GB RAM, 64GB S...</td>\n",
       "      <td>3.8</td>\n",
       "      <td>218</td>\n",
       "      <td>amazon</td>\n",
       "      <td>7586</td>\n",
       "      <td>4.0</td>\n",
       "    </tr>\n",
       "  </tbody>\n",
       "</table>\n",
       "</div>"
      ],
      "text/plain": [
       "   Unnamed: 0     Brand                                               Name  \\\n",
       "0           0   Samsung  Samsung Galaxy M05 (Mint Green, 4GB RAM, 64 GB...   \n",
       "1           1      POCO                   POCO C71, Cool Blue (6GB, 128GB)   \n",
       "2           2     Nokia  Nokia 105 Classic | Single SIM Keypad Phone wi...   \n",
       "3           3   OnePlus  OnePlus Nord CE4 Lite 5G (Super Silver, 8GB RA...   \n",
       "4           4  Motorola  Motorola G05 4G (Forest Green, 4GB RAM, 64GB S...   \n",
       "\n",
       "   Ratings  Reviews  Source  Price  RAM_GB  \n",
       "0      4.0     6358  amazon   6499     4.0  \n",
       "1      3.9       71  amazon   6999     6.0  \n",
       "2      3.8    19235  amazon    999     1.0  \n",
       "3      4.2     9101  amazon  16999     8.0  \n",
       "4      3.8      218  amazon   7586     4.0  "
      ]
     },
     "execution_count": 3,
     "metadata": {},
     "output_type": "execute_result"
    }
   ],
   "source": [
    "df.head()"
   ]
  },
  {
   "cell_type": "code",
   "execution_count": 4,
   "id": "bfd87060-0c61-4ff5-b51d-7f4749c4dcf5",
   "metadata": {},
   "outputs": [],
   "source": [
    "x=df[[\"Brand\"]]\n",
    "y=df[\"Price\"]\n"
   ]
  },
  {
   "cell_type": "code",
   "execution_count": 5,
   "id": "35b6a227-0ee2-4f98-9bb7-cbb550a4d1fc",
   "metadata": {},
   "outputs": [],
   "source": [
    "from sklearn.preprocessing import LabelEncoder, StandardScaler\n",
    "import warnings\n",
    "warnings.filterwarnings('ignore')"
   ]
  },
  {
   "cell_type": "code",
   "execution_count": 6,
   "id": "b901fdbe-c0f9-4f20-9dee-d7c9c7f469bf",
   "metadata": {},
   "outputs": [],
   "source": [
    "le_source = LabelEncoder()\n",
    "#x[\"Source\"] = le_source.fit_transform(x[\"Source\"])\n",
    "x[\"Brand\"] = le_source.fit_transform(x[\"Brand\"])"
   ]
  },
  {
   "cell_type": "code",
   "execution_count": 7,
   "id": "cb0dfbe9-0fab-4137-a446-dbf3022e87ff",
   "metadata": {},
   "outputs": [],
   "source": [
    "le_brand = LabelEncoder()\n",
    "y = le_brand.fit_transform(y)"
   ]
  },
  {
   "cell_type": "code",
   "execution_count": 8,
   "id": "468337fe-f7fd-4d8f-93c2-93042e3b6f73",
   "metadata": {},
   "outputs": [],
   "source": [
    "scaler = StandardScaler()\n",
    "x[[\"Brand\"]] = scaler.fit_transform(x[[\"Brand\"]])"
   ]
  },
  {
   "cell_type": "code",
   "execution_count": 9,
   "id": "18866631-56ab-475a-8f06-388f70a38d65",
   "metadata": {},
   "outputs": [],
   "source": [
    "from sklearn.model_selection import train_test_split\n",
    "x_train,x_test,y_train,y_test = train_test_split(x,y,test_size=0.2,random_state=42)"
   ]
  },
  {
   "cell_type": "code",
   "execution_count": 10,
   "id": "54464f0c-6810-4a3a-b26a-988169ff15c2",
   "metadata": {},
   "outputs": [],
   "source": [
    "from sklearn.linear_model import LogisticRegression\n",
    "from sklearn.svm import SVC\n",
    "from sklearn.neighbors import KNeighborsClassifier\n",
    "from sklearn.ensemble import RandomForestClassifier\n",
    "from xgboost import XGBClassifier\n",
    "from sklearn.metrics import accuracy_score, f1_score"
   ]
  },
  {
   "cell_type": "code",
   "execution_count": 11,
   "id": "436a7d5a-5383-4bcc-9953-8da7c9751eb1",
   "metadata": {},
   "outputs": [],
   "source": [
    "import numpy as np\n",
    "\n",
    "models = {\n",
    "    \"Logistic Regression\": LogisticRegression(max_iter=1000),\n",
    "    \"SVM\": SVC(),\n",
    "    \"k-NN\": KNeighborsClassifier(),\n",
    "    \"Random Forest\": RandomForestClassifier(), \n",
    "    \n",
    "}"
   ]
  },
  {
   "cell_type": "code",
   "execution_count": 12,
   "id": "62d90836-365d-489b-a629-f1e7f45ce5c5",
   "metadata": {},
   "outputs": [],
   "source": [
    "results = {}\n",
    "\n",
    "for name, model in models.items():\n",
    "    model.fit(x_train, y_train)\n",
    "    y_pred = model.predict(x_test)\n",
    "    acc = accuracy_score(y_test, y_pred)\n",
    "    f1 = f1_score(y_test, y_pred, average=\"weighted\")\n",
    "    results[name] = {\"Accuracy\": acc, \"F1 Score\": f1}\n"
   ]
  },
  {
   "cell_type": "code",
   "execution_count": 13,
   "id": "53042e1f-ca54-4108-9c1b-adce48b3a84d",
   "metadata": {},
   "outputs": [
    {
     "data": {
      "text/plain": [
       "{'Logistic Regression': {'Accuracy': 0.041666666666666664,\n",
       "  'F1 Score': 0.006555328991822424},\n",
       " 'SVM': {'Accuracy': 0.07083333333333333, 'F1 Score': 0.016965860134685044},\n",
       " 'k-NN': {'Accuracy': 0.05416666666666667, 'F1 Score': 0.02932922741746271},\n",
       " 'Random Forest': {'Accuracy': 0.1375, 'F1 Score': 0.0816553963967757}}"
      ]
     },
     "execution_count": 13,
     "metadata": {},
     "output_type": "execute_result"
    }
   ],
   "source": [
    "results"
   ]
  },
  {
   "cell_type": "code",
   "execution_count": null,
   "id": "b9bfff01-85d8-4d48-961c-272493d39fd1",
   "metadata": {},
   "outputs": [],
   "source": []
  },
  {
   "cell_type": "code",
   "execution_count": null,
   "id": "e93df9d1-e096-4371-8250-bf21107059d6",
   "metadata": {},
   "outputs": [],
   "source": []
  },
  {
   "cell_type": "code",
   "execution_count": 14,
   "id": "1a64f41d-d9e8-4788-bb45-50617bbbb120",
   "metadata": {},
   "outputs": [
    {
     "name": "stdout",
     "output_type": "stream",
     "text": [
      "Feature Importances:\n",
      " Reviews    0.331224\n",
      "Ratings    0.283852\n",
      "Brand      0.233404\n",
      "RAM_GB     0.100262\n",
      "Source     0.051258\n",
      "dtype: float64\n"
     ]
    }
   ],
   "source": [
    "import pandas as pd\n",
    "from sklearn.model_selection import train_test_split\n",
    "from sklearn.ensemble import RandomForestClassifier\n",
    "\n",
    "# Load your data\n",
    "df = pd.read_csv('mobile_clean.csv')\n",
    "\n",
    "# Define the target variable\n",
    "target_column = 'Price'\n",
    "y = df[target_column]\n",
    "\n",
    "# Select feature columns (example - replace with your chosen features)\n",
    "feature_columns = [\"Brand\",\"Ratings\", \"Reviews\", \"Source\",\"RAM_GB\"] \n",
    "X = df[feature_columns]\n",
    "\n",
    "le_source = LabelEncoder()\n",
    "#x[\"Source\"] = le_source.fit_transform(x[\"Source\"])\n",
    "X[\"Brand\"] = le_source.fit_transform(X[\"Brand\"])\n",
    "X[\"Source\"] = le_source.fit_transform(X[\"Source\"])\n",
    "\n",
    "scaler = StandardScaler()\n",
    "X[[\"Brand\",\"Ratings\", \"Reviews\", \"Source\",\"RAM_GB\"]] = scaler.fit_transform(X[[\"Brand\",\"Ratings\", \"Reviews\", \"Source\",\"RAM_GB\"]])\n",
    "\n",
    "\n",
    "\n",
    "# Optional: Feature Importance using RandomForestClassifier\n",
    "model = RandomForestClassifier(random_state=42)\n",
    "model.fit(X, y)\n",
    "feature_importances = pd.Series(model.feature_importances_, index=X.columns).sort_values(ascending=False)\n",
    "print(\"Feature Importances:\\n\", feature_importances)\n",
    "\n",
    "# Split data into training and testing sets\n",
    "X_train, X_test, y_train, y_test = train_test_split(X, y, test_size=0.2, random_state=42)"
   ]
  },
  {
   "cell_type": "code",
   "execution_count": null,
   "id": "b0737842-180e-413b-8c59-930eb0c6059b",
   "metadata": {},
   "outputs": [],
   "source": []
  },
  {
   "cell_type": "code",
   "execution_count": 15,
   "id": "2622033f-1e3a-41cf-943c-d84fb54b0363",
   "metadata": {},
   "outputs": [
    {
     "name": "stdout",
     "output_type": "stream",
     "text": [
      "Accuracy with all features: 0.35833333333333334\n",
      "Accuracy with top 3 features: 0.35\n",
      "Accuracy with top 4 features: 0.35\n"
     ]
    }
   ],
   "source": [
    "from sklearn.metrics import accuracy_score\n",
    "\n",
    "# Train with all features\n",
    "model_all = RandomForestClassifier(random_state=42)\n",
    "model_all.fit(X_train, y_train)\n",
    "acc_all = accuracy_score(y_test, model_all.predict(X_test))\n",
    "print(\"Accuracy with all features:\", acc_all)\n",
    "\n",
    "# Train with top 3 features\n",
    "X_top3 = X[[\"Reviews\", \"Ratings\", \"Brand\",\"RAM_GB\"]]\n",
    "X_train3, X_test3, y_train3, y_test3 = train_test_split(X_top3, y, test_size=0.2, random_state=42)\n",
    "\n",
    "model_top3 = RandomForestClassifier(random_state=42)\n",
    "model_top3.fit(X_train3, y_train3)\n",
    "acc_top3 = accuracy_score(y_test3, model_top3.predict(X_test3))\n",
    "print(\"Accuracy with top 3 features:\", acc_top3)\n",
    "\n",
    "# Train with top 4 (add RAM_GB)\n",
    "X_top4 = X[[\"Reviews\", \"Ratings\", \"Brand\", \"RAM_GB\"]]\n",
    "X_train4, X_test4, y_train4, y_test4 = train_test_split(X_top4, y, test_size=0.2, random_state=42)\n",
    "\n",
    "model_top4 = RandomForestClassifier(random_state=42)\n",
    "model_top4.fit(X_train4, y_train4)\n",
    "acc_top4 = accuracy_score(y_test4, model_top4.predict(X_test4))\n",
    "print(\"Accuracy with top 4 features:\", acc_top4)\n"
   ]
  },
  {
   "cell_type": "code",
   "execution_count": 16,
   "id": "c8d32a42-34eb-405b-8c3c-163e4b1e2927",
   "metadata": {},
   "outputs": [
    {
     "name": "stdout",
     "output_type": "stream",
     "text": [
      "Accuracy with all features: 0.07916666666666666\n",
      "Accuracy with top 3 features: 0.24166666666666667\n",
      "Accuracy with top 4 features: 0.35\n"
     ]
    }
   ],
   "source": [
    "from sklearn.metrics import accuracy_score\n",
    "\n",
    "# Train with all features\n",
    "model_all = LogisticRegression(max_iter=1000)\n",
    "model_all.fit(X_train, y_train)\n",
    "acc_all = accuracy_score(y_test, model_all.predict(X_test))\n",
    "print(\"Accuracy with all features:\", acc_all)\n",
    "\n",
    "# Train with top 3 features\n",
    "X_top3 = X[[\"Reviews\", \"Ratings\", \"Brand\"]]\n",
    "X_train3, X_test3, y_train3, y_test3 = train_test_split(X_top3, y, test_size=0.2, random_state=42)\n",
    "\n",
    "model_top3 = RandomForestClassifier(random_state=42)\n",
    "model_top3.fit(X_train3, y_train3)\n",
    "acc_top3 = accuracy_score(y_test3, model_top3.predict(X_test3))\n",
    "print(\"Accuracy with top 3 features:\", acc_top3)\n",
    "\n",
    "# Train with top 4 (add RAM_GB)\n",
    "X_top4 = X[[\"Reviews\", \"Ratings\", \"Brand\", \"RAM_GB\"]]\n",
    "X_train4, X_test4, y_train4, y_test4 = train_test_split(X_top4, y, test_size=0.2, random_state=42)\n",
    "\n",
    "model_top4 = RandomForestClassifier(random_state=42)\n",
    "model_top4.fit(X_train4, y_train4)\n",
    "acc_top4 = accuracy_score(y_test4, model_top4.predict(X_test4))\n",
    "print(\"Accuracy with top 4 features:\", acc_top4)"
   ]
  },
  {
   "cell_type": "code",
   "execution_count": 17,
   "id": "b1452c09-3943-4712-8944-6ad8877fe548",
   "metadata": {},
   "outputs": [
    {
     "name": "stdout",
     "output_type": "stream",
     "text": [
      "Accuracy with all features: 0.10416666666666667\n",
      "Accuracy with top 3 features: 0.24166666666666667\n",
      "Accuracy with top 4 features: 0.35\n"
     ]
    }
   ],
   "source": [
    "from sklearn.metrics import accuracy_score\n",
    "\n",
    "# Train with all features\n",
    "model_all = SVC()\n",
    "model_all.fit(X_train, y_train)\n",
    "acc_all = accuracy_score(y_test, model_all.predict(X_test))\n",
    "print(\"Accuracy with all features:\", acc_all)\n",
    "\n",
    "# Train with top 3 features\n",
    "X_top3 = X[[\"Reviews\", \"Ratings\", \"Brand\"]]\n",
    "X_train3, X_test3, y_train3, y_test3 = train_test_split(X_top3, y, test_size=0.2, random_state=42)\n",
    "\n",
    "model_top3 = RandomForestClassifier(random_state=42)\n",
    "model_top3.fit(X_train3, y_train3)\n",
    "acc_top3 = accuracy_score(y_test3, model_top3.predict(X_test3))\n",
    "print(\"Accuracy with top 3 features:\", acc_top3)\n",
    "\n",
    "# Train with top 4 (add RAM_GB)\n",
    "X_top4 = X[[\"Reviews\", \"Ratings\", \"Brand\", \"RAM_GB\"]]\n",
    "X_train4, X_test4, y_train4, y_test4 = train_test_split(X_top4, y, test_size=0.2, random_state=42)\n",
    "\n",
    "model_top4 = RandomForestClassifier(random_state=42)\n",
    "model_top4.fit(X_train4, y_train4)\n",
    "acc_top4 = accuracy_score(y_test4, model_top4.predict(X_test4))\n",
    "print(\"Accuracy with top 4 features:\", acc_top4)"
   ]
  },
  {
   "cell_type": "code",
   "execution_count": 18,
   "id": "3b80a126-8ab7-423f-8c93-a41bbec33484",
   "metadata": {},
   "outputs": [
    {
     "name": "stdout",
     "output_type": "stream",
     "text": [
      "Accuracy with all features: 0.20833333333333334\n",
      "Accuracy with top 3 features: 0.24166666666666667\n",
      "Accuracy with top 4 features: 0.35\n"
     ]
    }
   ],
   "source": [
    "from sklearn.metrics import accuracy_score\n",
    "\n",
    "# Train with all features\n",
    "model_all = KNeighborsClassifier()\n",
    "model_all.fit(X_train, y_train)\n",
    "acc_all = accuracy_score(y_test, model_all.predict(X_test))\n",
    "print(\"Accuracy with all features:\", acc_all)\n",
    "\n",
    "# Train with top 3 features\n",
    "X_top3 = X[[\"Reviews\", \"Ratings\", \"Brand\"]]\n",
    "X_train3, X_test3, y_train3, y_test3 = train_test_split(X_top3, y, test_size=0.2, random_state=42)\n",
    "\n",
    "model_top3 = RandomForestClassifier(random_state=42)\n",
    "model_top3.fit(X_train3, y_train3)\n",
    "acc_top3 = accuracy_score(y_test3, model_top3.predict(X_test3))\n",
    "print(\"Accuracy with top 3 features:\", acc_top3)\n",
    "\n",
    "# Train with top 4 (add RAM_GB)\n",
    "X_top4 = X[[\"Reviews\", \"Ratings\", \"Brand\", \"RAM_GB\"]]\n",
    "X_train4, X_test4, y_train4, y_test4 = train_test_split(X_top4, y, test_size=0.2, random_state=42)\n",
    "\n",
    "model_top4 = RandomForestClassifier(random_state=42)\n",
    "model_top4.fit(X_train4, y_train4)\n",
    "acc_top4 = accuracy_score(y_test4, model_top4.predict(X_test4))\n",
    "print(\"Accuracy with top 4 features:\", acc_top4)"
   ]
  },
  {
   "cell_type": "code",
   "execution_count": 19,
   "id": "cd507281-0e7d-4e04-9aac-5bf7206f6b40",
   "metadata": {},
   "outputs": [
    {
     "name": "stdout",
     "output_type": "stream",
     "text": [
      "Accuracy with all features: 0.37083333333333335\n",
      "Accuracy with top 3 features: 0.24166666666666667\n",
      "Accuracy with top 4 features: 0.35\n"
     ]
    }
   ],
   "source": [
    "from sklearn.metrics import accuracy_score\n",
    "\n",
    "# Train with all features\n",
    "model_all = RandomForestClassifier()\n",
    "model_all.fit(X_train, y_train)\n",
    "acc_all = accuracy_score(y_test, model_all.predict(X_test))\n",
    "print(\"Accuracy with all features:\", acc_all)\n",
    "\n",
    "# Train with top 3 features\n",
    "X_top3 = X[[\"Reviews\", \"Ratings\", \"Brand\"]]\n",
    "X_train3, X_test3, y_train3, y_test3 = train_test_split(X_top3, y, test_size=0.2, random_state=42)\n",
    "\n",
    "model_top3 = RandomForestClassifier(random_state=42)\n",
    "model_top3.fit(X_train3, y_train3)\n",
    "acc_top3 = accuracy_score(y_test3, model_top3.predict(X_test3))\n",
    "print(\"Accuracy with top 3 features:\", acc_top3)\n",
    "\n",
    "# Train with top 4 (add RAM_GB)\n",
    "X_top4 = X[[\"Reviews\", \"Ratings\", \"Brand\", \"RAM_GB\"]]\n",
    "X_train4, X_test4, y_train4, y_test4 = train_test_split(X_top4, y, test_size=0.2, random_state=42)\n",
    "\n",
    "model_top4 = RandomForestClassifier(random_state=42)\n",
    "model_top4.fit(X_train4, y_train4)\n",
    "acc_top4 = accuracy_score(y_test4, model_top4.predict(X_test4))\n",
    "print(\"Accuracy with top 4 features:\", acc_top4)"
   ]
  },
  {
   "cell_type": "code",
   "execution_count": null,
   "id": "9c08bfe2-b3fa-4595-8259-4f4d3da94b0f",
   "metadata": {},
   "outputs": [],
   "source": []
  },
  {
   "cell_type": "code",
   "execution_count": null,
   "id": "84f561a1-a4bb-4d07-ac6b-3e0ef492f6b8",
   "metadata": {},
   "outputs": [],
   "source": []
  },
  {
   "cell_type": "code",
   "execution_count": null,
   "id": "41161d73-20a2-4583-af89-c4af976b8e36",
   "metadata": {},
   "outputs": [],
   "source": []
  },
  {
   "cell_type": "code",
   "execution_count": null,
   "id": "ea2b865f-03ef-4c2f-a4b1-2ac73eff1fd6",
   "metadata": {},
   "outputs": [],
   "source": []
  },
  {
   "cell_type": "code",
   "execution_count": null,
   "id": "e0da0575-484d-42ea-be2b-efbd63b4ea2f",
   "metadata": {},
   "outputs": [],
   "source": []
  },
  {
   "cell_type": "code",
   "execution_count": 21,
   "id": "7c442f68-8360-4c17-842b-aa7373cba42c",
   "metadata": {},
   "outputs": [
    {
     "data": {
      "image/png": "[encoded data removed]",
      "text/plain": [
       "<Figure size 900x600 with 1 Axes>"
      ]
     },
     "metadata": {},
     "output_type": "display_data"
    }
   ],
   "source": [
    "import matplotlib.pyplot as plt\n",
    "\n",
    "r2_scores = {\n",
    "   \"Logistic Regression\":0.22916666666666666 ,\n",
    "    \"SVM\":0.3 ,\n",
    "    \"k-NN\":0.4375,\n",
    "    \"Random Forest\":0.7333333333333333 , \n",
    "    \"XGBClassifier\": 0.4811715481171548\n",
    "}\n",
    "\n",
    "plt.figure(figsize=(9,6))\n",
    "bars = plt.bar(r2_scores.keys(), r2_scores.values(), color=['skyblue', 'orange', 'red', 'green', 'purple'])\n",
    "plt.axhline(0, color=\"black\", linewidth=0.8, linestyle=\"--\")  # baseline at 0\n",
    "plt.title(\"accuracy scoreof different classification Models\")\n",
    "plt.ylabel(\"accuracy Score\")\n",
    "plt.xticks(rotation=30)\n",
    "\n",
    "for bar in bars:\n",
    "    yval = bar.get_height()\n",
    "    plt.text(bar.get_x() + bar.get_width()/2, yval + 0.02, round(yval, 2), ha='center', va='bottom')\n",
    "\n",
    "plt.show()\n"
   ]
  },
  {
   "cell_type": "code",
   "execution_count": 22,
   "id": "cc643f6b-07a3-4ef2-8321-9d97f72ae613",
   "metadata": {},
   "outputs": [],
   "source": [
    "from sklearn.model_selection import GridSearchCV, RandomizedSearchCV\n",
    "from sklearn.ensemble import RandomForestClassifier\n"
   ]
  },
  {
   "cell_type": "code",
   "execution_count": 23,
   "id": "0b574bdc-1a43-4646-95fd-f954e9023f6e",
   "metadata": {},
   "outputs": [],
   "source": [
    "param_grid = {\n",
    "    \"n_estimators\": [100, 200, 300, 500],       \n",
    "    \"max_depth\": [None, 10, 20, 30, 50],  \n",
    "    \"min_samples_split\": [2, 5, 10],             \n",
    "    \"min_samples_leaf\": [1, 2, 4],               \n",
    "    \"max_features\": [\"sqrt\", \"log2\"]         \n",
    "}"
   ]
  },
  {
   "cell_type": "code",
   "execution_count": null,
   "id": "4c17a661-2fbe-4300-b882-1f11cb019dc3",
   "metadata": {},
   "outputs": [],
   "source": [
    "rf = RandomForestClassifier(random_state=42)\n",
    "\n",
    "grid_search = GridSearchCV(\n",
    "    estimator=rf,\n",
    "    param_grid=param_grid,\n",
    "    cv=5,              \n",
    "    scoring=\"accuracy\",  \n",
    "    n_jobs=-1,        \n",
    "    verbose=2\n",
    ")\n",
    "\n",
    "grid_search.fit(X_train, y_train)\n",
    "\n",
    "print(\"Best Parameters:\", grid_search.best_params_)\n",
    "print(\"Best Accuracy:\", grid_search.best_score_)\n"
   ]
  },
  {
   "cell_type": "code",
   "execution_count": null,
   "id": "02c4dd4f-9a83-4d51-9193-bc2dcd452950",
   "metadata": {},
   "outputs": [],
   "source": [
    "best_rf = grid_search.best_estimator_\n",
    "\n",
    "y_pred = best_rf.predict(X_test)\n",
    "\n",
    "print(\"Test Accuracy:\", accuracy_score(y_test, y_pred))\n",
    "print(\"F1 Score (weighted):\", f1_score(y_test, y_pred, average=\"weighted\"))\n"
   ]
  },
  {
   "cell_type": "code",
   "execution_count": null,
   "id": "69cec33a-397a-4cfb-8e5b-3bd2a0fa9166",
   "metadata": {},
   "outputs": [],
   "source": []
  }
 ],
 "metadata": {
  "kernelspec": {
   "display_name": "Python 3 (ipykernel)",
   "language": "python",
   "name": "python3"
  },
  "language_info": {
   "codemirror_mode": {
    "name": "ipython",
    "version": 3
   },
   "file_extension": ".py",
   "mimetype": "text/x-python",
   "name": "python",
   "nbconvert_exporter": "python",
   "pygments_lexer": "ipython3",
   "version": "3.10.0"
  }
 },
 "nbformat": 4,
 "nbformat_minor": 5
}
