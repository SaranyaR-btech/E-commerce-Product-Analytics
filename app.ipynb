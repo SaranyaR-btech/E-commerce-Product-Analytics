{
 "cells": [
  {
   "cell_type": "code",
   "execution_count": 5,
   "id": "7e35fd13-26f3-457f-863b-52180d7deab0",
   "metadata": {},
   "outputs": [
    {
     "name": "stderr",
     "output_type": "stream",
     "text": [
      "C:\\Users\\Saranya\\AppData\\Local\\Programs\\Python\\Python310\\lib\\site-packages\\gradio\\utils.py:1017: UserWarning: Expected 5 arguments for function <function predict_price at 0x0000026879B2D870>, received 4.\n",
      "  warnings.warn(\n",
      "C:\\Users\\Saranya\\AppData\\Local\\Programs\\Python\\Python310\\lib\\site-packages\\gradio\\utils.py:1021: UserWarning: Expected at least 5 arguments for function <function predict_price at 0x0000026879B2D870>, received 4.\n",
      "  warnings.warn(\n"
     ]
    },
    {
     "name": "stdout",
     "output_type": "stream",
     "text": [
      "* Running on local URL:  http://127.0.0.1:7864\n",
      "\n",
      "To create a public link, set `share=True` in `launch()`.\n"
     ]
    },
    {
     "data": {
      "text/html": [
       "<div><iframe src=\"http://127.0.0.1:7864/\" width=\"100%\" height=\"500\" allow=\"autoplay; camera; microphone; clipboard-read; clipboard-write;\" frameborder=\"0\" allowfullscreen></iframe></div>"
      ],
      "text/plain": [
       "<IPython.core.display.HTML object>"
      ]
     },
     "metadata": {},
     "output_type": "display_data"
    },
    {
     "data": {
      "text/plain": []
     },
     "execution_count": 5,
     "metadata": {},
     "output_type": "execute_result"
    },
    {
     "name": "stderr",
     "output_type": "stream",
     "text": [
      "C:\\Users\\Saranya\\AppData\\Local\\Programs\\Python\\Python310\\lib\\site-packages\\gradio\\helpers.py:968: UserWarning: Unexpected argument. Filling with None.\n",
      "  warnings.warn(\"Unexpected argument. Filling with None.\")\n",
      "Traceback (most recent call last):\n",
      "  File \"C:\\Users\\Saranya\\AppData\\Local\\Programs\\Python\\Python310\\lib\\site-packages\\gradio\\queueing.py\", line 625, in process_events\n",
      "    response = await route_utils.call_process_api(\n",
      "  File \"C:\\Users\\Saranya\\AppData\\Local\\Programs\\Python\\Python310\\lib\\site-packages\\gradio\\route_utils.py\", line 322, in call_process_api\n",
      "    output = await app.get_blocks().process_api(\n",
      "  File \"C:\\Users\\Saranya\\AppData\\Local\\Programs\\Python\\Python310\\lib\\site-packages\\gradio\\blocks.py\", line 2044, in process_api\n",
      "    result = await self.call_function(\n",
      "  File \"C:\\Users\\Saranya\\AppData\\Local\\Programs\\Python\\Python310\\lib\\site-packages\\gradio\\blocks.py\", line 1591, in call_function\n",
      "    prediction = await anyio.to_thread.run_sync(  # type: ignore\n",
      "  File \"C:\\Users\\Saranya\\AppData\\Local\\Programs\\Python\\Python310\\lib\\site-packages\\anyio\\to_thread.py\", line 56, in run_sync\n",
      "    return await get_async_backend().run_sync_in_worker_thread(\n",
      "  File \"C:\\Users\\Saranya\\AppData\\Local\\Programs\\Python\\Python310\\lib\\site-packages\\anyio\\_backends\\_asyncio.py\", line 2505, in run_sync_in_worker_thread\n",
      "    return await future\n",
      "  File \"C:\\Users\\Saranya\\AppData\\Local\\Programs\\Python\\Python310\\lib\\site-packages\\anyio\\_backends\\_asyncio.py\", line 1005, in run\n",
      "    result = context.run(func, *args)\n",
      "  File \"C:\\Users\\Saranya\\AppData\\Local\\Programs\\Python\\Python310\\lib\\site-packages\\gradio\\utils.py\", line 883, in wrapper\n",
      "    response = f(*args, **kwargs)\n",
      "  File \"C:\\Users\\Saranya\\AppData\\Local\\Temp\\ipykernel_13812\\1601643689.py\", line 36, in predict_price\n",
      "    \"RAM_GB\": int(RAM_GB)\n",
      "TypeError: int() argument must be a string, a bytes-like object or a real number, not 'NoneType'\n"
     ]
    }
   ],
   "source": [
    "import joblib\n",
    "import pandas as pd\n",
    "import gradio as gr\n",
    "import os\n",
    "\n",
    "MODEL_PATH = \"model.pkl\"\n",
    "DATA_PATH = \"mobile_clean.xlsx\"\n",
    "\n",
    "# Load trained model\n",
    "if not os.path.exists(MODEL_PATH):\n",
    "    raise FileNotFoundError(f\"{MODEL_PATH} not found. Please train and save your pipeline first.\")\n",
    "\n",
    "model = joblib.load(MODEL_PATH)\n",
    "\n",
    "# Load dataset to get dropdown options\n",
    "brands = []\n",
    "sources = []\n",
    "if os.path.exists(DATA_PATH):\n",
    "    df = pd.read_excel(DATA_PATH)\n",
    "    if \"Brand\" in df.columns:\n",
    "        brands = sorted(df[\"Brand\"].dropna().astype(str).unique().tolist())\n",
    "    if \"Source\" in df.columns:\n",
    "        sources = sorted(df[\"Source\"].dropna().astype(str).unique().tolist())\n",
    "\n",
    "if len(brands) == 0:\n",
    "    brands = [\"Samsung\", \"Apple\", \"Xiaomi\", \"realme\", \"vivo\", \"OPPO\", \"OnePlus\", \"POCO\"]\n",
    "if len(sources) == 0:\n",
    "    sources = [\"amazon\", \"flipkart\", \"croma\", \"reliance\"]\n",
    "\n",
    "def predict_price(ratings, reviews, source, brand,RAM_GB):\n",
    "    X = pd.DataFrame([{\n",
    "        \"Ratings\": float(ratings),\n",
    "        \"Reviews\": int(reviews),\n",
    "        \"Source\": str(source),\n",
    "        \"Brand\": str(brand),\n",
    "        \"RAM_GB\": int(RAM_GB)\n",
    "    }])\n",
    "    try:\n",
    "        pred = model.predict(X)\n",
    "        price = float(pred[0])\n",
    "        return f\"Predicted Price: ₹{int(round(price)):,}\"\n",
    "    except Exception as e:\n",
    "        return f\"Prediction failed: {e}\"\n",
    "\n",
    "with gr.Blocks() as demo:\n",
    "    gr.Markdown(\"## 📱 Mobile Price Predictor\")\n",
    "    gr.Markdown(\"Enter Ratings, Reviews, Source and Brand to get estimated Price (₹).\")\n",
    "\n",
    "    with gr.Row():\n",
    "        ratings = gr.Slider(0.0, 5.0, value=4.0, step=0.1, label=\"Ratings\")\n",
    "        reviews = gr.Number(value=100, label=\"Reviews (count)\")\n",
    "        RAM_GB = gr.Slider(0, 24, value=6, step=1, label=\"RAM_GB\")\n",
    "    with gr.Row():\n",
    "        source = gr.Dropdown(choices=sources, label=\"Source\", value=sources[0])\n",
    "        brand = gr.Dropdown(choices=brands, label=\"Brand\", value=brands[0])\n",
    "\n",
    "    output = gr.Textbox(label=\"Prediction\")\n",
    "\n",
    "    predict_btn = gr.Button(\"Predict Price\")\n",
    "    predict_btn.click(fn=predict_price, inputs=[ratings, reviews, source, brand], outputs=output)\n",
    "\n",
    "demo.launch()\n"
   ]
  },
  {
   "cell_type": "code",
   "execution_count": null,
   "id": "b1789bb6-fef1-442b-baf9-7ebe5bcf624c",
   "metadata": {},
   "outputs": [],
   "source": []
  },
  {
   "cell_type": "code",
   "execution_count": null,
   "id": "66166b62-4389-47b9-b057-a145a475d40d",
   "metadata": {},
   "outputs": [],
   "source": []
  },
  {
   "cell_type": "code",
   "execution_count": null,
   "id": "540bd543-0aa3-4eff-adfd-99163079360f",
   "metadata": {},
   "outputs": [],
   "source": []
  },
  {
   "cell_type": "code",
   "execution_count": 6,
   "id": "0c6b29c3-8544-4019-8011-9383e7613b34",
   "metadata": {},
   "outputs": [
    {
     "name": "stdout",
     "output_type": "stream",
     "text": [
      "* Running on local URL:  http://127.0.0.1:7865\n",
      "\n",
      "To create a public link, set `share=True` in `launch()`.\n"
     ]
    },
    {
     "data": {
      "text/html": [
       "<div><iframe src=\"http://127.0.0.1:7865/\" width=\"100%\" height=\"500\" allow=\"autoplay; camera; microphone; clipboard-read; clipboard-write;\" frameborder=\"0\" allowfullscreen></iframe></div>"
      ],
      "text/plain": [
       "<IPython.core.display.HTML object>"
      ]
     },
     "metadata": {},
     "output_type": "display_data"
    },
    {
     "data": {
      "text/plain": []
     },
     "execution_count": 6,
     "metadata": {},
     "output_type": "execute_result"
    },
    {
     "name": "stderr",
     "output_type": "stream",
     "text": [
      "C:\\Users\\Saranya\\AppData\\Local\\Programs\\Python\\Python310\\lib\\site-packages\\sklearn\\utils\\validation.py:2732: UserWarning: X has feature names, but RandomForestClassifier was fitted without feature names\n",
      "  warnings.warn(\n",
      "C:\\Users\\Saranya\\AppData\\Local\\Programs\\Python\\Python310\\lib\\site-packages\\sklearn\\utils\\validation.py:2732: UserWarning: X has feature names, but GradientBoostingClassifier was fitted without feature names\n",
      "  warnings.warn(\n"
     ]
    }
   ],
   "source": [
    "import joblib\n",
    "import pandas as pd\n",
    "import gradio as gr\n",
    "import os\n",
    "\n",
    "# Paths\n",
    "MODEL_PATH = \"ensemble.pkl\"\n",
    "\n",
    "# Load trained model\n",
    "if not os.path.exists(MODEL_PATH):\n",
    "    raise FileNotFoundError(f\"{MODEL_PATH} not found. Please upload the trained model file.\")\n",
    "\n",
    "model = joblib.load(MODEL_PATH)\n",
    "\n",
    "# Prediction function\n",
    "def predict_brand(price, ratings, reviews, ram_gb, battery):\n",
    "    X = pd.DataFrame([{\n",
    "        \"Price\": float(price),\n",
    "        \"Ratings\": float(ratings),\n",
    "        \"Reviews\": int(reviews),\n",
    "        \"RAM_GB\": int(ram_gb),\n",
    "        \"Battery\": int(battery)\n",
    "    }])\n",
    "    try:\n",
    "        pred = model.predict(X)\n",
    "        brand = str(pred[0])\n",
    "        return f\"📱 Predicted Brand: {brand}\"\n",
    "    except Exception as e:\n",
    "        return f\"❌ Prediction failed: {e}\"\n",
    "\n",
    "# Gradio UI\n",
    "with gr.Blocks() as demo:\n",
    "    gr.Markdown(\"## 📱 Mobile Brand Predictor\")\n",
    "    gr.Markdown(\"Enter mobile details to get the **Predicted Brand**.\")\n",
    "\n",
    "    with gr.Row():\n",
    "        price = gr.Number(value=20000, label=\"Price (₹)\")\n",
    "        ratings = gr.Slider(0.0, 5.0, value=4.0, step=0.1, label=\"Ratings\")\n",
    "\n",
    "    with gr.Row():\n",
    "        reviews = gr.Number(value=100, label=\"Reviews (count)\")\n",
    "        ram_gb = gr.Slider(1, 24, value=6, step=1, label=\"RAM (GB)\")\n",
    "        battery = gr.Slider(2000, 7000, value=4000, step=100, label=\"Battery (mAh)\")\n",
    "\n",
    "    output = gr.Textbox(label=\"Prediction\")\n",
    "\n",
    "    predict_btn = gr.Button(\"🔮 Predict Brand\")\n",
    "    predict_btn.click(fn=predict_brand, inputs=[price, ratings, reviews, ram_gb, battery], outputs=output)\n",
    "\n",
    "demo.launch()\n"
   ]
  },
  {
   "cell_type": "code",
   "execution_count": null,
   "id": "5066099b-6df6-4717-bf8f-dba8bd393674",
   "metadata": {},
   "outputs": [],
   "source": []
  }
 ],
 "metadata": {
  "kernelspec": {
   "display_name": "Python 3 (ipykernel)",
   "language": "python",
   "name": "python3"
  },
  "language_info": {
   "codemirror_mode": {
    "name": "ipython",
    "version": 3
   },
   "file_extension": ".py",
   "mimetype": "text/x-python",
   "name": "python",
   "nbconvert_exporter": "python",
   "pygments_lexer": "ipython3",
   "version": "3.10.0"
  }
 },
 "nbformat": 4,
 "nbformat_minor": 5
}
